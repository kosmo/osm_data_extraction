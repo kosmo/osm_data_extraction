{
 "cells": [
  {
   "cell_type": "code",
   "execution_count": null,
   "metadata": {},
   "outputs": [],
   "source": [
    "import fiona  # keep this line!\n",
    "import geopandas as gpd"
   ]
  },
  {
   "cell_type": "code",
   "execution_count": null,
   "metadata": {},
   "outputs": [],
   "source": [
    "osm_landuse = gpd.read_file('data/sachsen/landuse/gis_osm_landuse_a_free_1.shp')\n",
    "\n",
    "\n",
    "farmland = osm_landuse.loc[osm_landuse[\"fclass\"] == 'farmland']\n",
    "forest = osm_landuse.loc[osm_landuse[\"fclass\"] == 'forest']\n",
    "\n",
    "#    - 'landuse IN (''farmland'',''farmyard'',''greenhouse_horticulture'')'\n",
    "#    - landuse='forest'"
   ]
  },
  {
   "cell_type": "code",
   "execution_count": null,
   "metadata": {},
   "outputs": [],
   "source": [
    "farmland.crs\n",
    "farmland_clipped = farmland.cx[xmin:xmax, ymin:ymax]\n",
    "#farmland.total_bounds"
   ]
  }
 ],
 "metadata": {
  "interpreter": {
   "hash": "1104e517be4410fbe704bbe0e5112c129ccbd7d8b2ffdd7d93e6d279d29dc5b2"
  },
  "kernelspec": {
   "display_name": "Python 3.9.7 ('.venv': pipenv)",
   "language": "python",
   "name": "python3"
  },
  "language_info": {
   "codemirror_mode": {
    "name": "ipython",
    "version": 3
   },
   "file_extension": ".py",
   "mimetype": "text/x-python",
   "name": "python",
   "nbconvert_exporter": "python",
   "pygments_lexer": "ipython3",
   "version": "3.9.7"
  }
 },
 "nbformat": 4,
 "nbformat_minor": 2
}
