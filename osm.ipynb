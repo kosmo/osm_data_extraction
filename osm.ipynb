{
 "cells": [
  {
   "cell_type": "code",
   "execution_count": null,
   "metadata": {},
   "outputs": [],
   "source": [
    "import geopandas as gpd"
   ]
  },
  {
   "cell_type": "code",
   "execution_count": null,
   "metadata": {},
   "outputs": [],
   "source": [
    "# Download OSM shapefile e.g. from geofabrik.de (https://download.geofabrik.de/europe/germany.html)\n",
    "# Read shapefile into GeoDataFrame\n",
    "osm_landuse = gpd.read_file('data/sachsen/landuse/gis_osm_landuse_a_free_1.shp')\n",
    "\n",
    "# Select the things of interest\n",
    "farmland = osm_landuse.loc[osm_landuse[\"fclass\"] == 'farmland']\n",
    "forest = osm_landuse.loc[osm_landuse[\"fclass\"] == 'forest']"
   ]
  },
  {
   "cell_type": "code",
   "execution_count": null,
   "metadata": {},
   "outputs": [],
   "source": [
    "# Clip to area of interest\n",
    "farmland_clipped = farmland.cx[12.26212303671877:12.52030174765627, 51.18771088177091:51.61792065665139]\n",
    "forest_clipped = forest.cx[12.26212303671877:12.52030174765627, 51.18771088177091:51.61792065665139]\n"
   ]
  },
  {
   "cell_type": "code",
   "execution_count": null,
   "metadata": {},
   "outputs": [],
   "source": [
    "# Save clipped shapefiles\n",
    "farmland_clipped.to_file(\"farmland.shp\")\n",
    "forest_clipped.to_file(\"forest.shp\")"
   ]
  }
 ],
 "metadata": {
  "interpreter": {
   "hash": "9e2956d68a6fb9001ef691a2eec55a66ee5a6cc409d144599511046b798f2db3"
  },
  "kernelspec": {
   "display_name": "Python 3.9.7 ('.venv': pipenv)",
   "language": "python",
   "name": "python3"
  },
  "language_info": {
   "codemirror_mode": {
    "name": "ipython",
    "version": 3
   },
   "file_extension": ".py",
   "mimetype": "text/x-python",
   "name": "python",
   "nbconvert_exporter": "python",
   "pygments_lexer": "ipython3",
   "version": "3.9.7"
  }
 },
 "nbformat": 4,
 "nbformat_minor": 2
}
